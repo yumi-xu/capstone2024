{
  "nbformat": 4,
  "nbformat_minor": 0,
  "metadata": {
    "colab": {
      "provenance": [],
      "authorship_tag": "ABX9TyOrZCAC5pjhNxd2Hif8UJAL",
      "include_colab_link": true
    },
    "kernelspec": {
      "name": "python3",
      "display_name": "Python 3"
    },
    "language_info": {
      "name": "python"
    }
  },
  "cells": [
    {
      "cell_type": "markdown",
      "metadata": {
        "id": "view-in-github",
        "colab_type": "text"
      },
      "source": [
        "<a href=\"https://colab.research.google.com/github/yumi-xu/capstone2024/blob/main/capstone.ipynb\" target=\"_parent\"><img src=\"https://colab.research.google.com/assets/colab-badge.svg\" alt=\"Open In Colab\"/></a>"
      ]
    },
    {
      "cell_type": "code",
      "execution_count": null,
      "metadata": {
        "id": "RgYEKp7qLEvg"
      },
      "outputs": [],
      "source": [
        "from google.colab import files\n",
        "uploaded = files.upload()"
      ]
    },
    {
      "cell_type": "code",
      "source": [
        "import pandas as pd\n",
        "\n",
        "# 加载数据集\n",
        "file_path = 'csv/classifications.csv'\n",
        "data = pd.read_csv(file_path)\n",
        "\n",
        "# 选择初始相关列\n",
        "initial_columns = [\n",
        "    'Physical System Type', 'AI Task',\n",
        "    'Notes (AI Functionality and Techniques)',\n",
        "    'Notes (Information about AI System)',\n",
        "    'Operating Conditions'\n",
        "]\n",
        "\n",
        "# 清理数据，删除相关列中缺失值的行\n",
        "data_cleaned = data[initial_columns].dropna()\n",
        "\n",
        "# 创建假设目标列\n",
        "data_cleaned['Level of Autonomy'] = data_cleaned['AI Task'].apply(lambda x: 1 if 'autonomous' in x.lower() else 0)\n",
        "print(\"Data cleaned and target column created:\")\n",
        "print(data_cleaned.head())\n"
      ],
      "metadata": {
        "colab": {
          "base_uri": "https://localhost:8080/"
        },
        "id": "y_qfecNuLsto",
        "outputId": "66b67e26-cc01-4030-c4ea-a744371858b9"
      },
      "execution_count": null,
      "outputs": [
        {
          "output_type": "stream",
          "name": "stdout",
          "text": [
            "Data cleaned and target column created:\n",
            "       Physical System Type  \\\n",
            "133                      \"\"   \n",
            "134                      \"\"   \n",
            "135  \"Manufacturing Robot \"   \n",
            "136                      \"\"   \n",
            "137                      \"\"   \n",
            "\n",
            "                                               AI Task  \\\n",
            "133  [\"image classification\",\"image categorization\"...   \n",
            "134                                                 \"\"   \n",
            "135                                                 \"\"   \n",
            "136  [\"Generate Captions\",\"image identification\",\"i...   \n",
            "137                             [\"content moderation\"]   \n",
            "\n",
            "    Notes (AI Functionality and Techniques)  \\\n",
            "133                                      \"\"   \n",
            "134                \"The system was not AI.\"   \n",
            "135                                      \"\"   \n",
            "136                                      \"\"   \n",
            "137                                      \"\"   \n",
            "\n",
            "                   Notes (Information about AI System) Operating Conditions  \\\n",
            "133  \" The Google Photos system creates labels auto...                   \"\"   \n",
            "134  \"In this case, the company was unable to overr...                   \"\"   \n",
            "135                                 \"Not an AI system\"                   \"\"   \n",
            "136  \"The AI responded to each prompt without inter...                   \"\"   \n",
            "137  \"9.5 - Content-moderation algorithms like the ...                   \"\"   \n",
            "\n",
            "     Level of Autonomy  \n",
            "133                  0  \n",
            "134                  0  \n",
            "135                  0  \n",
            "136                  0  \n",
            "137                  0  \n"
          ]
        }
      ]
    },
    {
      "cell_type": "code",
      "source": [],
      "metadata": {
        "id": "VSW0ixDFMHnK"
      },
      "execution_count": null,
      "outputs": []
    }
  ]
}